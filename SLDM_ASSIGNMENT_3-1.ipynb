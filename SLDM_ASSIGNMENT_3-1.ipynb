{
 "cells": [
  {
   "cell_type": "markdown",
   "id": "80413499-b1ab-4735-9396-329a551f0b07",
   "metadata": {},
   "source": [
    "## Analyzing Competetion in eBay Auctions\n",
    "\n",
    "- **Barnali Das (21060641010)**\n",
    "- **Durgesh Kinnerkar (21060641016)**\n",
    "- **Ravi Shankar (21060641037)**"
   ]
  },
  {
   "cell_type": "markdown",
   "id": "5a79ae33-5e9d-4abb-8f22-82ece884913f",
   "metadata": {},
   "source": [
    "## Introduction\n",
    "\n",
    "An auction is a sales event wherein potential buyers place competitive bids on assets or services either in an open or closed format. Auctions are popular because buyers and sellers believe they will get a good deal buying or selling assets.\n",
    "\n",
    "Ebay is one such site which offers auctions where you can bid on different items and commit that you will buy it once you win the auction. There are over eighty million people visiting eBay.com with over two hundred million individual auctions. Ebay faces many challenges. In order to encounter those, it has taken several steps such as Automatic bidding, Restricting a bid, Reserve prices, Responding to Second chance offers, tipping for winning auction and many more.\n",
    "\n",
    "Through this study we wanted to understand how these online auctions work in Ebay by considering different variables and understand if the buyers and sellers consider different factors while bidding and the criterias for defining a particular bid as competitive or non competitive.\n",
    "\n",
    "In order to achieve that, the following were the objectives:\n",
    "- To understand if a seller's “reputation”, measured by seller’s feedback, has a positive correlation to buyer’s willingness to bid on an item as well as the price of the item.\n",
    "- To examine if the length of the days the seller puts an item for sale has any correlation to the final price bidders are willing to pay.  \n",
    "- To identify the important attributes leading to competitive auction\n",
    "- Build a model that will classify auctions as competitive or non competitive."
   ]
  },
  {
   "cell_type": "code",
   "execution_count": 1,
   "id": "38df94a6-c842-4521-97c9-66bd82777a95",
   "metadata": {},
   "outputs": [],
   "source": [
    "import numpy as np\n",
    "import pandas as pd \n",
    "import matplotlib.pyplot as plt"
   ]
  },
  {
   "cell_type": "code",
   "execution_count": 2,
   "id": "8bd14942",
   "metadata": {},
   "outputs": [],
   "source": [
    "df = pd.read_csv(r\"D:\\Sem 3\\Statistical learning and data mining\\Assignment 4\\_selectedreference_eBayAuctions.csv\")"
   ]
  },
  {
   "cell_type": "markdown",
   "id": "786b79d0-e470-44ad-bade-db20390a9e1e",
   "metadata": {},
   "source": [
    "## Exploratory Data Analysis "
   ]
  },
  {
   "cell_type": "code",
   "execution_count": 3,
   "id": "08e9d754",
   "metadata": {},
   "outputs": [
    {
     "name": "stdout",
     "output_type": "stream",
     "text": [
      "<class 'pandas.core.frame.DataFrame'>\n",
      "RangeIndex: 1972 entries, 0 to 1971\n",
      "Data columns (total 8 columns):\n",
      " #   Column        Non-Null Count  Dtype  \n",
      "---  ------        --------------  -----  \n",
      " 0   Category      1972 non-null   object \n",
      " 1   currency      1972 non-null   object \n",
      " 2   sellerRating  1972 non-null   int64  \n",
      " 3   Duration      1972 non-null   int64  \n",
      " 4   endDay        1972 non-null   object \n",
      " 5   ClosePrice    1972 non-null   float64\n",
      " 6   OpenPrice     1972 non-null   float64\n",
      " 7   Competitive?  1972 non-null   int64  \n",
      "dtypes: float64(2), int64(3), object(3)\n",
      "memory usage: 123.4+ KB\n"
     ]
    }
   ],
   "source": [
    "df.info()"
   ]
  },
  {
   "cell_type": "code",
   "execution_count": 4,
   "id": "9c892459",
   "metadata": {},
   "outputs": [
    {
     "data": {
      "text/plain": [
       "(1972, 8)"
      ]
     },
     "execution_count": 4,
     "metadata": {},
     "output_type": "execute_result"
    }
   ],
   "source": [
    "df.shape"
   ]
  },
  {
   "cell_type": "code",
   "execution_count": 5,
   "id": "0f0f186a",
   "metadata": {},
   "outputs": [
    {
     "data": {
      "text/plain": [
       "Index(['Category', 'currency', 'sellerRating', 'Duration', 'endDay',\n",
       "       'ClosePrice', 'OpenPrice', 'Competitive?'],\n",
       "      dtype='object')"
      ]
     },
     "execution_count": 5,
     "metadata": {},
     "output_type": "execute_result"
    }
   ],
   "source": [
    "df.columns"
   ]
  },
  {
   "cell_type": "code",
   "execution_count": 6,
   "id": "1b52c3fa",
   "metadata": {},
   "outputs": [
    {
     "data": {
      "text/html": [
       "<div>\n",
       "<style scoped>\n",
       "    .dataframe tbody tr th:only-of-type {\n",
       "        vertical-align: middle;\n",
       "    }\n",
       "\n",
       "    .dataframe tbody tr th {\n",
       "        vertical-align: top;\n",
       "    }\n",
       "\n",
       "    .dataframe thead th {\n",
       "        text-align: right;\n",
       "    }\n",
       "</style>\n",
       "<table border=\"1\" class=\"dataframe\">\n",
       "  <thead>\n",
       "    <tr style=\"text-align: right;\">\n",
       "      <th></th>\n",
       "      <th>Category</th>\n",
       "      <th>currency</th>\n",
       "      <th>sellerRating</th>\n",
       "      <th>Duration</th>\n",
       "      <th>endDay</th>\n",
       "      <th>ClosePrice</th>\n",
       "      <th>OpenPrice</th>\n",
       "      <th>Competitive?</th>\n",
       "    </tr>\n",
       "  </thead>\n",
       "  <tbody>\n",
       "    <tr>\n",
       "      <th>0</th>\n",
       "      <td>Music/Movie/Game</td>\n",
       "      <td>US</td>\n",
       "      <td>3249</td>\n",
       "      <td>5</td>\n",
       "      <td>Mon</td>\n",
       "      <td>0.01</td>\n",
       "      <td>0.01</td>\n",
       "      <td>0</td>\n",
       "    </tr>\n",
       "    <tr>\n",
       "      <th>1</th>\n",
       "      <td>Music/Movie/Game</td>\n",
       "      <td>US</td>\n",
       "      <td>3249</td>\n",
       "      <td>5</td>\n",
       "      <td>Mon</td>\n",
       "      <td>0.01</td>\n",
       "      <td>0.01</td>\n",
       "      <td>0</td>\n",
       "    </tr>\n",
       "    <tr>\n",
       "      <th>2</th>\n",
       "      <td>Music/Movie/Game</td>\n",
       "      <td>US</td>\n",
       "      <td>3249</td>\n",
       "      <td>5</td>\n",
       "      <td>Mon</td>\n",
       "      <td>0.01</td>\n",
       "      <td>0.01</td>\n",
       "      <td>0</td>\n",
       "    </tr>\n",
       "    <tr>\n",
       "      <th>3</th>\n",
       "      <td>Music/Movie/Game</td>\n",
       "      <td>US</td>\n",
       "      <td>3249</td>\n",
       "      <td>5</td>\n",
       "      <td>Mon</td>\n",
       "      <td>0.01</td>\n",
       "      <td>0.01</td>\n",
       "      <td>0</td>\n",
       "    </tr>\n",
       "    <tr>\n",
       "      <th>4</th>\n",
       "      <td>Music/Movie/Game</td>\n",
       "      <td>US</td>\n",
       "      <td>3249</td>\n",
       "      <td>5</td>\n",
       "      <td>Mon</td>\n",
       "      <td>0.01</td>\n",
       "      <td>0.01</td>\n",
       "      <td>0</td>\n",
       "    </tr>\n",
       "  </tbody>\n",
       "</table>\n",
       "</div>"
      ],
      "text/plain": [
       "           Category currency  sellerRating  Duration endDay  ClosePrice  \\\n",
       "0  Music/Movie/Game       US          3249         5    Mon        0.01   \n",
       "1  Music/Movie/Game       US          3249         5    Mon        0.01   \n",
       "2  Music/Movie/Game       US          3249         5    Mon        0.01   \n",
       "3  Music/Movie/Game       US          3249         5    Mon        0.01   \n",
       "4  Music/Movie/Game       US          3249         5    Mon        0.01   \n",
       "\n",
       "   OpenPrice  Competitive?  \n",
       "0       0.01             0  \n",
       "1       0.01             0  \n",
       "2       0.01             0  \n",
       "3       0.01             0  \n",
       "4       0.01             0  "
      ]
     },
     "execution_count": 6,
     "metadata": {},
     "output_type": "execute_result"
    }
   ],
   "source": [
    "df.head()"
   ]
  },
  {
   "cell_type": "code",
   "execution_count": 7,
   "id": "353bf030",
   "metadata": {},
   "outputs": [
    {
     "data": {
      "text/plain": [
       "Category        0.0\n",
       "currency        0.0\n",
       "sellerRating    0.0\n",
       "Duration        0.0\n",
       "endDay          0.0\n",
       "ClosePrice      0.0\n",
       "OpenPrice       0.0\n",
       "Competitive?    0.0\n",
       "dtype: float64"
      ]
     },
     "execution_count": 7,
     "metadata": {},
     "output_type": "execute_result"
    }
   ],
   "source": [
    "df.isnull().sum().sort_values(ascending=False)/len(df)"
   ]
  },
  {
   "cell_type": "markdown",
   "id": "49e50ff9-82cd-4cc8-94c7-467eda47f8f5",
   "metadata": {},
   "source": [
    "**Data Transformation**: Keeping in mind these objectives, the first step is to perform the exploratory data analysis. For this, the dataset is first standardized into the same currency by converting the EUR and GBP into US Dollars since for example if an item in India is auctioned at Rs 80 and the closing price is Rs 160 the difference between them will be Rs 80. But at the same time, when we convert it into dollars, it’s the difference between 1dollar and 2 dollar which is a difference of only 1 dollar and because of this difference, it might be predicted that the item in India is more competitive than the one in the US. Hence, it may give biased results. Thus, conversion of currencies is performed."
   ]
  },
  {
   "cell_type": "code",
   "execution_count": 8,
   "id": "3bf556e2",
   "metadata": {},
   "outputs": [],
   "source": [
    "df['ClosePrice'] = np.where(df['currency'] == 'GBP', df['ClosePrice']*1.21, df['ClosePrice'])\n",
    "df['OpenPrice'] = np.where(df['currency'] == 'GBP', df['OpenPrice']*1.21, df['OpenPrice'])\n",
    "df['ClosePrice'] = np.where(df['currency'] == 'EUR', df['ClosePrice']*1.04, df['ClosePrice'])\n",
    "df['OpenPrice'] = np.where(df['currency'] == 'EUR', df['OpenPrice']*1.04, df['OpenPrice'])"
   ]
  },
  {
   "cell_type": "markdown",
   "id": "4f8e985f-8ca4-4a44-9439-bfa3031da2fb",
   "metadata": {},
   "source": [
    "Once conversion of EUR and GBP is done, the difference between the open and close price is estimated to measure the buyer’s willingness to bid on an item and the seller ratings are considered to understand the seller’s reputation."
   ]
  },
  {
   "cell_type": "code",
   "execution_count": 9,
   "id": "db64cc57",
   "metadata": {},
   "outputs": [],
   "source": [
    "df['Difference'] = df['ClosePrice']-df['OpenPrice']"
   ]
  },
  {
   "cell_type": "code",
   "execution_count": 10,
   "id": "1e3880d9",
   "metadata": {},
   "outputs": [
    {
     "data": {
      "text/html": [
       "<div>\n",
       "<style scoped>\n",
       "    .dataframe tbody tr th:only-of-type {\n",
       "        vertical-align: middle;\n",
       "    }\n",
       "\n",
       "    .dataframe tbody tr th {\n",
       "        vertical-align: top;\n",
       "    }\n",
       "\n",
       "    .dataframe thead th {\n",
       "        text-align: right;\n",
       "    }\n",
       "</style>\n",
       "<table border=\"1\" class=\"dataframe\">\n",
       "  <thead>\n",
       "    <tr style=\"text-align: right;\">\n",
       "      <th></th>\n",
       "      <th>Category</th>\n",
       "      <th>currency</th>\n",
       "      <th>sellerRating</th>\n",
       "      <th>Duration</th>\n",
       "      <th>endDay</th>\n",
       "      <th>ClosePrice</th>\n",
       "      <th>OpenPrice</th>\n",
       "      <th>Competitive?</th>\n",
       "      <th>Difference</th>\n",
       "    </tr>\n",
       "  </thead>\n",
       "  <tbody>\n",
       "    <tr>\n",
       "      <th>0</th>\n",
       "      <td>Music/Movie/Game</td>\n",
       "      <td>US</td>\n",
       "      <td>3249</td>\n",
       "      <td>5</td>\n",
       "      <td>Mon</td>\n",
       "      <td>0.01</td>\n",
       "      <td>0.01</td>\n",
       "      <td>0</td>\n",
       "      <td>0.0</td>\n",
       "    </tr>\n",
       "    <tr>\n",
       "      <th>1</th>\n",
       "      <td>Music/Movie/Game</td>\n",
       "      <td>US</td>\n",
       "      <td>3249</td>\n",
       "      <td>5</td>\n",
       "      <td>Mon</td>\n",
       "      <td>0.01</td>\n",
       "      <td>0.01</td>\n",
       "      <td>0</td>\n",
       "      <td>0.0</td>\n",
       "    </tr>\n",
       "    <tr>\n",
       "      <th>2</th>\n",
       "      <td>Music/Movie/Game</td>\n",
       "      <td>US</td>\n",
       "      <td>3249</td>\n",
       "      <td>5</td>\n",
       "      <td>Mon</td>\n",
       "      <td>0.01</td>\n",
       "      <td>0.01</td>\n",
       "      <td>0</td>\n",
       "      <td>0.0</td>\n",
       "    </tr>\n",
       "    <tr>\n",
       "      <th>3</th>\n",
       "      <td>Music/Movie/Game</td>\n",
       "      <td>US</td>\n",
       "      <td>3249</td>\n",
       "      <td>5</td>\n",
       "      <td>Mon</td>\n",
       "      <td>0.01</td>\n",
       "      <td>0.01</td>\n",
       "      <td>0</td>\n",
       "      <td>0.0</td>\n",
       "    </tr>\n",
       "    <tr>\n",
       "      <th>4</th>\n",
       "      <td>Music/Movie/Game</td>\n",
       "      <td>US</td>\n",
       "      <td>3249</td>\n",
       "      <td>5</td>\n",
       "      <td>Mon</td>\n",
       "      <td>0.01</td>\n",
       "      <td>0.01</td>\n",
       "      <td>0</td>\n",
       "      <td>0.0</td>\n",
       "    </tr>\n",
       "  </tbody>\n",
       "</table>\n",
       "</div>"
      ],
      "text/plain": [
       "           Category currency  sellerRating  Duration endDay  ClosePrice  \\\n",
       "0  Music/Movie/Game       US          3249         5    Mon        0.01   \n",
       "1  Music/Movie/Game       US          3249         5    Mon        0.01   \n",
       "2  Music/Movie/Game       US          3249         5    Mon        0.01   \n",
       "3  Music/Movie/Game       US          3249         5    Mon        0.01   \n",
       "4  Music/Movie/Game       US          3249         5    Mon        0.01   \n",
       "\n",
       "   OpenPrice  Competitive?  Difference  \n",
       "0       0.01             0         0.0  \n",
       "1       0.01             0         0.0  \n",
       "2       0.01             0         0.0  \n",
       "3       0.01             0         0.0  \n",
       "4       0.01             0         0.0  "
      ]
     },
     "execution_count": 10,
     "metadata": {},
     "output_type": "execute_result"
    }
   ],
   "source": [
    "df.head()"
   ]
  },
  {
   "cell_type": "markdown",
   "id": "d6aa299f-fe3c-49e0-89c9-be41795ad9e3",
   "metadata": {},
   "source": [
    "**Correlation Analysis**"
   ]
  },
  {
   "cell_type": "code",
   "execution_count": 11,
   "id": "5ba646a0",
   "metadata": {},
   "outputs": [
    {
     "data": {
      "text/plain": [
       "0.017067888498761973"
      ]
     },
     "execution_count": 11,
     "metadata": {},
     "output_type": "execute_result"
    }
   ],
   "source": [
    "np.corrcoef(df['sellerRating'], df['Difference'])[0,1]"
   ]
  },
  {
   "cell_type": "markdown",
   "id": "0195f846-32cc-4916-b74c-19d37755149b",
   "metadata": {},
   "source": [
    "**Analysis**: On finding the correlation it is observed that the correlation is very small and near to zero, hence it is observed that there is no correlation between the buyer’s willingness to bid an item and seller’s reputation. It means that the buyer does not see the ratings when they bid for a particular item, this again shows the lack of awareness about auction among people."
   ]
  },
  {
   "cell_type": "code",
   "execution_count": 12,
   "id": "b594c234",
   "metadata": {},
   "outputs": [
    {
     "data": {
      "text/plain": [
       "-0.08740005268275558"
      ]
     },
     "execution_count": 12,
     "metadata": {},
     "output_type": "execute_result"
    }
   ],
   "source": [
    "np.corrcoef(df['Duration'], df['ClosePrice'])[0,1]"
   ]
  },
  {
   "cell_type": "markdown",
   "id": "523b19d9-ff8d-45dc-b74c-fff674e96f87",
   "metadata": {},
   "source": [
    "**Analysis**: Next, the correlation is considered for the close prices of an item and the duration or the length of days it takes for that time to get sold. We again observe a very small correlation near to zero, hence there is no correlation between the duration and closing price of an item. It means that the price of an item does not increase/ decrease with respect to the length of days it takes for an item to get sold.\n"
   ]
  },
  {
   "cell_type": "code",
   "execution_count": 13,
   "id": "05c48671",
   "metadata": {},
   "outputs": [
    {
     "data": {
      "text/plain": [
       "-0.05838185475029706"
      ]
     },
     "execution_count": 13,
     "metadata": {},
     "output_type": "execute_result"
    }
   ],
   "source": [
    "np.corrcoef(df['Duration'], df['Difference'])[0,1]"
   ]
  },
  {
   "cell_type": "markdown",
   "id": "a47c1f49-5af1-4e98-8eeb-bc03a15ecc33",
   "metadata": {},
   "source": [
    "**Analysis**: The correlation coefficient is also found for the buyer’s willingness to bid an item (difference between close and open price) and length of days it takes for an item to get sold. Here also, it is found that there is no correlation between these two."
   ]
  },
  {
   "cell_type": "code",
   "execution_count": 14,
   "id": "382ad940",
   "metadata": {},
   "outputs": [
    {
     "data": {
      "text/plain": [
       "Category\n",
       "Photography             162.608138\n",
       "SportingGoods            79.133987\n",
       "Computer                 77.154783\n",
       "Electronics              73.235244\n",
       "Automotive               38.188082\n",
       "Collectibles             28.804279\n",
       "Clothing/Accessories     28.084896\n",
       "Business/Industrial      26.893189\n",
       "Books                    22.010381\n",
       "Pottery/Glass            21.480025\n",
       "Home/Garden              21.346368\n",
       "Jewelry                  13.688296\n",
       "EverythingElse           11.714118\n",
       "Toys/Hobbies             10.791525\n",
       "Antique/Art/Craft         6.996647\n",
       "Coins/Stamps              6.383765\n",
       "Music/Movie/Game          4.761123\n",
       "Health/Beauty             1.427181\n",
       "Name: Difference, dtype: float64"
      ]
     },
     "execution_count": 14,
     "metadata": {},
     "output_type": "execute_result"
    }
   ],
   "source": [
    "t=df.groupby('Category').mean()\n",
    "t[\"Difference\"].sort_values(ascending=False)"
   ]
  },
  {
   "cell_type": "code",
   "execution_count": 15,
   "id": "7a6a8ddc",
   "metadata": {},
   "outputs": [
    {
     "data": {
      "text/plain": [
       "Index(['Category', 'Values'], dtype='object')"
      ]
     },
     "execution_count": 15,
     "metadata": {},
     "output_type": "execute_result"
    }
   ],
   "source": [
    "bar1 = pd.read_excel(r\"D:\\Sem 3\\Statistical learning and data mining\\Assignment 4\\Barchart 1.xlsx\")\n",
    "bar1.columns"
   ]
  },
  {
   "cell_type": "markdown",
   "id": "6ceb142f-f491-4d54-98c3-cc8be5a2bec0",
   "metadata": {},
   "source": [
    "**Bar plots are constructed to understand category wise which kind of items are sold at a higher price in the auction, so that more such items can be placed for auctions as it attracts the buyers.**"
   ]
  },
  {
   "cell_type": "code",
   "execution_count": 16,
   "id": "0a529eee",
   "metadata": {},
   "outputs": [
    {
     "data": {
      "text/plain": [
       "[Text(0, 0, 'Photography'),\n",
       " Text(1, 0, 'SportingGoods'),\n",
       " Text(2, 0, 'Computer'),\n",
       " Text(3, 0, 'Electronics'),\n",
       " Text(4, 0, 'Automotive'),\n",
       " Text(5, 0, 'Collectibles'),\n",
       " Text(6, 0, 'Clothing/Accessories'),\n",
       " Text(7, 0, 'Business/Industrial'),\n",
       " Text(8, 0, 'Books'),\n",
       " Text(9, 0, 'Pottery/Glass'),\n",
       " Text(10, 0, 'Home/Garden'),\n",
       " Text(11, 0, 'Jewelry'),\n",
       " Text(12, 0, 'EverythingElse'),\n",
       " Text(13, 0, 'Toys/Hobbies'),\n",
       " Text(14, 0, 'Antique/Art/Craft'),\n",
       " Text(15, 0, 'Coins/Stamps'),\n",
       " Text(16, 0, 'Music/Movie/Game'),\n",
       " Text(17, 0, 'Health/Beauty')]"
      ]
     },
     "execution_count": 16,
     "metadata": {},
     "output_type": "execute_result"
    },
    {
     "data": {
      "image/png": "[encoded data removed]",
      "text/plain": [
       "<Figure size 432x288 with 1 Axes>"
      ]
     },
     "metadata": {
      "needs_background": "light"
     },
     "output_type": "display_data"
    }
   ],
   "source": [
    "import seaborn as sns\n",
    "sns.barplot(x = 'Category',y = 'Values',data = bar1)\n",
    "g = sns.barplot(x = 'Category',y = 'Values',data = bar1) \n",
    "g.set_xticklabels(g.get_xticklabels(),rotation=90)"
   ]
  },
  {
   "cell_type": "markdown",
   "id": "8089d09b-448a-4270-95a3-74f0a369dd9e",
   "metadata": {},
   "source": [
    "**Analysis**: It is observed that items from the Photography sector are sold the highest and the least with Health/Beauty . One of the reasons for Health/Beauty being the least, is that people may not be reliable on Beauty products that are sold at auction. This helps in conclusion that more items related to the photography sector be encouraged for higher bidding of items."
   ]
  },
  {
   "cell_type": "code",
   "execution_count": 17,
   "id": "b90f6a65",
   "metadata": {},
   "outputs": [
    {
     "data": {
      "text/plain": [
       "Category\n",
       "Music/Movie/Game        403\n",
       "Collectibles            239\n",
       "Toys/Hobbies            234\n",
       "Automotive              178\n",
       "Antique/Art/Craft       177\n",
       "SportingGoods           124\n",
       "Clothing/Accessories    119\n",
       "Home/Garden             102\n",
       "Jewelry                  82\n",
       "Health/Beauty            64\n",
       "Electronics              55\n",
       "Books                    54\n",
       "Coins/Stamps             37\n",
       "Computer                 36\n",
       "Pottery/Glass            20\n",
       "Business/Industrial      18\n",
       "EverythingElse           17\n",
       "Photography              13\n",
       "Name: Difference, dtype: int64"
      ]
     },
     "execution_count": 17,
     "metadata": {},
     "output_type": "execute_result"
    }
   ],
   "source": [
    "t=df.groupby('Category').count()\n",
    "t[\"Difference\"].sort_values(ascending=False)"
   ]
  },
  {
   "cell_type": "markdown",
   "id": "7cee2032-9a91-4c45-ab28-90dccee94b37",
   "metadata": {},
   "source": [
    "**The other bar plot is  constructed to understand category wise how many items are put for online auctions.**"
   ]
  },
  {
   "cell_type": "code",
   "execution_count": 18,
   "id": "10329c55",
   "metadata": {},
   "outputs": [
    {
     "data": {
      "text/plain": [
       "[Text(0, 0, 'Music/Movie/Game'),\n",
       " Text(1, 0, 'Collectibles'),\n",
       " Text(2, 0, 'Toys/Hobbies'),\n",
       " Text(3, 0, 'Automotive'),\n",
       " Text(4, 0, 'Antique/Art/Craft'),\n",
       " Text(5, 0, 'SportingGoods'),\n",
       " Text(6, 0, 'Clothing/Accessories'),\n",
       " Text(7, 0, 'Home/Garden'),\n",
       " Text(8, 0, 'Jewelry'),\n",
       " Text(9, 0, 'Health/Beauty'),\n",
       " Text(10, 0, 'Electronics'),\n",
       " Text(11, 0, 'Books'),\n",
       " Text(12, 0, 'Coins/Stamps'),\n",
       " Text(13, 0, 'Computer'),\n",
       " Text(14, 0, 'Pottery/Glass'),\n",
       " Text(15, 0, 'Business/Industrial'),\n",
       " Text(16, 0, 'EverythingElse'),\n",
       " Text(17, 0, 'Photography')]"
      ]
     },
     "execution_count": 18,
     "metadata": {},
     "output_type": "execute_result"
    },
    {
     "data": {
      "image/png": "[encoded data removed]",
      "text/plain": [
       "<Figure size 432x288 with 1 Axes>"
      ]
     },
     "metadata": {
      "needs_background": "light"
     },
     "output_type": "display_data"
    }
   ],
   "source": [
    "bar2 = pd.read_excel(r\"D:\\Sem 3\\Statistical learning and data mining\\Assignment 4\\BarChart2.xlsx\")\n",
    "bar2.columns\n",
    "g1=sns.barplot(x = 'Category',y = 'Values',data = bar2)\n",
    "g1.set_xticklabels(g1.get_xticklabels(),rotation=90)"
   ]
  },
  {
   "cell_type": "markdown",
   "id": "c108cdf4-0bae-4ac9-8a1e-8b63d260f46f",
   "metadata": {},
   "source": [
    "**Analysis**: It is observed that most items are kept from the Music/Movie/Game sector and the least from the Photography sector. This gives a completely contradictory results as it was observed that the highest amount of items are sold from photography sector but very few items are kept, hence in online auctions more such items should be kept as it be attract customers and engage them more with online auctions"
   ]
  },
  {
   "cell_type": "code",
   "execution_count": 19,
   "id": "c335c0ba-d096-44cc-aaae-68b017049ae5",
   "metadata": {},
   "outputs": [],
   "source": [
    "df = pd.read_csv(r\"D:\\Sem 3\\Statistical learning and data mining\\Assignment 4\\Change.csv\")"
   ]
  },
  {
   "cell_type": "code",
   "execution_count": 20,
   "id": "8f8132bb-bc6a-4ea5-9d69-a7ed26590919",
   "metadata": {},
   "outputs": [
    {
     "name": "stdout",
     "output_type": "stream",
     "text": [
      "<class 'pandas.core.frame.DataFrame'>\n",
      "RangeIndex: 1972 entries, 0 to 1971\n",
      "Data columns (total 8 columns):\n",
      " #   Column        Non-Null Count  Dtype  \n",
      "---  ------        --------------  -----  \n",
      " 0   Category      1972 non-null   object \n",
      " 1   currency      1972 non-null   object \n",
      " 2   sellerRating  1972 non-null   int64  \n",
      " 3   Duration      1972 non-null   int64  \n",
      " 4   endDay        1972 non-null   object \n",
      " 5   ClosePrice    1972 non-null   float64\n",
      " 6   OpenPrice     1972 non-null   float64\n",
      " 7   Competitive?  1972 non-null   int64  \n",
      "dtypes: float64(2), int64(3), object(3)\n",
      "memory usage: 123.4+ KB\n"
     ]
    }
   ],
   "source": [
    "df.info()"
   ]
  },
  {
   "cell_type": "code",
   "execution_count": 21,
   "id": "9eef2447-6126-4828-9c6c-2a2ca8e23029",
   "metadata": {},
   "outputs": [],
   "source": [
    "from sklearn import preprocessing \n",
    "\n",
    "var = ['Category','currency','endDay']\n",
    "\n",
    "label_encoder = preprocessing.LabelEncoder()\n",
    "\n",
    "for column in var:\n",
    "    df[column] = label_encoder.fit_transform(df[column])"
   ]
  },
  {
   "cell_type": "code",
   "execution_count": 22,
   "id": "308b1f06-2674-4e06-8f0b-4cf00509b19d",
   "metadata": {},
   "outputs": [
    {
     "data": {
      "text/html": [
       "<div>\n",
       "<style scoped>\n",
       "    .dataframe tbody tr th:only-of-type {\n",
       "        vertical-align: middle;\n",
       "    }\n",
       "\n",
       "    .dataframe tbody tr th {\n",
       "        vertical-align: top;\n",
       "    }\n",
       "\n",
       "    .dataframe thead th {\n",
       "        text-align: right;\n",
       "    }\n",
       "</style>\n",
       "<table border=\"1\" class=\"dataframe\">\n",
       "  <thead>\n",
       "    <tr style=\"text-align: right;\">\n",
       "      <th></th>\n",
       "      <th>Category</th>\n",
       "      <th>currency</th>\n",
       "      <th>sellerRating</th>\n",
       "      <th>Duration</th>\n",
       "      <th>endDay</th>\n",
       "      <th>ClosePrice</th>\n",
       "      <th>OpenPrice</th>\n",
       "      <th>Competitive?</th>\n",
       "    </tr>\n",
       "  </thead>\n",
       "  <tbody>\n",
       "    <tr>\n",
       "      <th>0</th>\n",
       "      <td>13</td>\n",
       "      <td>2</td>\n",
       "      <td>3249</td>\n",
       "      <td>5</td>\n",
       "      <td>1</td>\n",
       "      <td>0.01</td>\n",
       "      <td>0.01</td>\n",
       "      <td>0</td>\n",
       "    </tr>\n",
       "    <tr>\n",
       "      <th>1</th>\n",
       "      <td>13</td>\n",
       "      <td>2</td>\n",
       "      <td>3249</td>\n",
       "      <td>5</td>\n",
       "      <td>1</td>\n",
       "      <td>0.01</td>\n",
       "      <td>0.01</td>\n",
       "      <td>0</td>\n",
       "    </tr>\n",
       "    <tr>\n",
       "      <th>2</th>\n",
       "      <td>13</td>\n",
       "      <td>2</td>\n",
       "      <td>3249</td>\n",
       "      <td>5</td>\n",
       "      <td>1</td>\n",
       "      <td>0.01</td>\n",
       "      <td>0.01</td>\n",
       "      <td>0</td>\n",
       "    </tr>\n",
       "    <tr>\n",
       "      <th>3</th>\n",
       "      <td>13</td>\n",
       "      <td>2</td>\n",
       "      <td>3249</td>\n",
       "      <td>5</td>\n",
       "      <td>1</td>\n",
       "      <td>0.01</td>\n",
       "      <td>0.01</td>\n",
       "      <td>0</td>\n",
       "    </tr>\n",
       "    <tr>\n",
       "      <th>4</th>\n",
       "      <td>13</td>\n",
       "      <td>2</td>\n",
       "      <td>3249</td>\n",
       "      <td>5</td>\n",
       "      <td>1</td>\n",
       "      <td>0.01</td>\n",
       "      <td>0.01</td>\n",
       "      <td>0</td>\n",
       "    </tr>\n",
       "  </tbody>\n",
       "</table>\n",
       "</div>"
      ],
      "text/plain": [
       "   Category  currency  sellerRating  Duration  endDay  ClosePrice  OpenPrice  \\\n",
       "0        13         2          3249         5       1        0.01       0.01   \n",
       "1        13         2          3249         5       1        0.01       0.01   \n",
       "2        13         2          3249         5       1        0.01       0.01   \n",
       "3        13         2          3249         5       1        0.01       0.01   \n",
       "4        13         2          3249         5       1        0.01       0.01   \n",
       "\n",
       "   Competitive?  \n",
       "0             0  \n",
       "1             0  \n",
       "2             0  \n",
       "3             0  \n",
       "4             0  "
      ]
     },
     "execution_count": 22,
     "metadata": {},
     "output_type": "execute_result"
    }
   ],
   "source": [
    "df.head()"
   ]
  },
  {
   "cell_type": "code",
   "execution_count": 23,
   "id": "adebde19-2e69-49d1-bded-af4c28e6aa8e",
   "metadata": {},
   "outputs": [],
   "source": [
    "from sklearn.model_selection import train_test_split\n",
    "\n",
    "X = df.drop('Competitive?', axis=1).values\n",
    "y = df['Competitive?'].values\n",
    "\n",
    "X_train, X_test, y_train, y_test = train_test_split(X, y, test_size=0.3, stratify=y, random_state=45)"
   ]
  },
  {
   "cell_type": "markdown",
   "id": "e40ab77e-e9b8-40e6-997c-a664e0b886d9",
   "metadata": {},
   "source": [
    "## Model Development "
   ]
  },
  {
   "cell_type": "markdown",
   "id": "82e2a04d-dd88-4a4b-9a34-57b5994e4dd3",
   "metadata": {},
   "source": [
    "### Decision Tree"
   ]
  },
  {
   "cell_type": "code",
   "execution_count": 24,
   "id": "86c70d87-7795-4080-9bdd-b1841df1fda0",
   "metadata": {},
   "outputs": [],
   "source": [
    "from sklearn.tree import DecisionTreeClassifier\n",
    "\n",
    "dt = DecisionTreeClassifier(criterion='gini',splitter='best',min_samples_split=5,max_features='sqrt',random_state=21)\n",
    "\n",
    "dt.fit(X_train, y_train)\n",
    "\n",
    "y_pred = dt.predict(X_test)"
   ]
  },
  {
   "cell_type": "markdown",
   "id": "80177fce-1ab2-46a9-aa87-e48a7a069450",
   "metadata": {},
   "source": [
    "### Feature Importance using Decision Tree\n",
    "\n",
    "The attributes are ranked according to information gain in the decision tree model. This is an efficient method to identify important features."
   ]
  },
  {
   "cell_type": "code",
   "execution_count": 25,
   "id": "81aa7f71-e0d7-41b8-8246-f4a23fd632d6",
   "metadata": {},
   "outputs": [
    {
     "data": {
      "image/png": "[encoded data removed]",
      "text/plain": [
       "<Figure size 432x288 with 1 Axes>"
      ]
     },
     "metadata": {
      "needs_background": "light"
     },
     "output_type": "display_data"
    }
   ],
   "source": [
    "X = df.drop('Competitive?', axis=1)\n",
    "y = df['Competitive?']\n",
    "\n",
    "feature_importance = pd.Series(dt.feature_importances_, index = X.columns)\n",
    "\n",
    "sorted_importance = feature_importance.sort_values()\n",
    "\n",
    "sorted_importance.plot(kind='bar',color='green'); \n",
    "\n",
    "plt.show()"
   ]
  },
  {
   "cell_type": "code",
   "execution_count": 26,
   "id": "3b752f39-333a-4368-903e-cc920109afb4",
   "metadata": {},
   "outputs": [
    {
     "name": "stderr",
     "output_type": "stream",
     "text": [
      "C:\\Users\\Barnali Das\\anaconda3\\lib\\site-packages\\sklearn\\utils\\deprecation.py:87: FutureWarning: Function plot_confusion_matrix is deprecated; Function `plot_confusion_matrix` is deprecated in 1.0 and will be removed in 1.2. Use one of the class methods: ConfusionMatrixDisplay.from_predictions or ConfusionMatrixDisplay.from_estimator.\n",
      "  warnings.warn(msg, category=FutureWarning)\n"
     ]
    },
    {
     "data": {
      "image/png": "[encoded data removed]",
      "text/plain": [
       "<Figure size 432x288 with 2 Axes>"
      ]
     },
     "metadata": {
      "needs_background": "light"
     },
     "output_type": "display_data"
    }
   ],
   "source": [
    "from sklearn.metrics import plot_confusion_matrix\n",
    "\n",
    "plot_confusion_matrix(dt, X_test, y_test)\n",
    "plt.show()"
   ]
  },
  {
   "cell_type": "markdown",
   "id": "51160274-b721-4a5e-b130-ecec0917d339",
   "metadata": {},
   "source": [
    "**Analysis**: In accordance with confusion Matrix, it can be interpreted that the model was able to predict positive 82.1% of time and negative 89.33% of time."
   ]
  },
  {
   "cell_type": "markdown",
   "id": "6273068b-6e5e-428d-88dd-a437b1fc2203",
   "metadata": {},
   "source": [
    "### Logistic Regression "
   ]
  },
  {
   "cell_type": "code",
   "execution_count": 27,
   "id": "89adaec6-5c08-4e73-8457-8721e0bcb461",
   "metadata": {},
   "outputs": [],
   "source": [
    "from sklearn.linear_model import LogisticRegression\n",
    "\n",
    "logreg = LogisticRegression()\n",
    "\n",
    "logreg.fit(X_train, y_train)\n",
    "\n",
    "y_pred = logreg.predict(X_test)\n",
    "\n",
    "y_pred_probs = logreg.predict_proba(X_test)[:, 1]"
   ]
  },
  {
   "cell_type": "code",
   "execution_count": 28,
   "id": "1f2b942e-cd26-44c4-87a9-167260731e33",
   "metadata": {},
   "outputs": [
    {
     "name": "stdout",
     "output_type": "stream",
     "text": [
      "Area under the curve is 0.8649586397058824\n"
     ]
    },
    {
     "data": {
      "image/png": "[encoded data removed]",
      "text/plain": [
       "<Figure size 432x288 with 1 Axes>"
      ]
     },
     "metadata": {
      "needs_background": "light"
     },
     "output_type": "display_data"
    }
   ],
   "source": [
    "from sklearn.metrics import roc_curve\n",
    "from sklearn.metrics import roc_auc_score\n",
    "from sklearn import metrics\n",
    "fpr, tpr, thresholds = roc_curve(y_test, y_pred_probs)\n",
    "auc=metrics.roc_auc_score(y_test, y_pred_probs)\n",
    "print(\"Area under the curve is\",auc)\n",
    "\n",
    "plt.plot([0, 1], [0, 1], 'k--')\n",
    "plt.plot(fpr, tpr)\n",
    "plt.xlabel('False Positive Rate')\n",
    "plt.ylabel('True Positive Rate')\n",
    "plt.title('ROC Curve')\n",
    "plt.show()"
   ]
  },
  {
   "cell_type": "markdown",
   "id": "7042cb8b-5c1f-4f58-8281-d4738a2fceb4",
   "metadata": {},
   "source": [
    "**Interpretation**: Receiver Operating Characteristic (ROC) Curve: An ROC Curve is a graphical representation of the performance of a classification model at all classification thresholds. \n",
    "\n",
    "The two parameters in focus are \n",
    "1) True Positive Rate: competitive auctions that the model predicted correctly \n",
    "2) False Positive Rate: auctions which are not competitive that the model classified as competitive\n",
    "\n",
    "Lowering the classification threshold classifies more items as positive, thus increasing both False Positives and True Positives. \n",
    "\n",
    "AUC (Area under the curve) provides an aggregate performance measure across all possible classification thresholds. One way of interpreting AUC is the probability that the model ranks a random positive example more highly than a random negative example. AUC ranges in value from 0 to 1. A model whose predictions are 100% wrong has an AUC of 0.0; one whose predictions are 100% correct has an AUC of 1.0.\n",
    "\n",
    "**Area Under ROC Curve = 0.8649**"
   ]
  },
  {
   "cell_type": "code",
   "execution_count": 29,
   "id": "1fbecc17-4301-4bfc-aa7d-5db2724c36e7",
   "metadata": {},
   "outputs": [
    {
     "name": "stderr",
     "output_type": "stream",
     "text": [
      "C:\\Users\\Barnali Das\\anaconda3\\lib\\site-packages\\sklearn\\utils\\deprecation.py:87: FutureWarning: Function plot_confusion_matrix is deprecated; Function `plot_confusion_matrix` is deprecated in 1.0 and will be removed in 1.2. Use one of the class methods: ConfusionMatrixDisplay.from_predictions or ConfusionMatrixDisplay.from_estimator.\n",
      "  warnings.warn(msg, category=FutureWarning)\n"
     ]
    },
    {
     "data": {
      "image/png": "[encoded data removed]",
      "text/plain": [
       "<Figure size 432x288 with 2 Axes>"
      ]
     },
     "metadata": {
      "needs_background": "light"
     },
     "output_type": "display_data"
    }
   ],
   "source": [
    "plot_confusion_matrix(logreg, X_test, y_test)\n",
    "plt.show()"
   ]
  },
  {
   "cell_type": "markdown",
   "id": "7fa10ee1-9e23-4eff-bd48-9e18a27eaed8",
   "metadata": {},
   "source": [
    "**Analysis**: In this case, model was able to predict positive 75.52% of time and negative 91.5% of time."
   ]
  },
  {
   "cell_type": "markdown",
   "id": "74b430bc-d648-4116-8386-498108b2b208",
   "metadata": {},
   "source": [
    "### k-nearest neighbours "
   ]
  },
  {
   "cell_type": "code",
   "execution_count": 30,
   "id": "1cc20db6-e804-44b8-9280-d31c55bfb330",
   "metadata": {},
   "outputs": [],
   "source": [
    "from sklearn.neighbors import KNeighborsClassifier \n",
    "\n",
    "neighbors = np.arange(1, 13)\n",
    "train_accuracies = {}\n",
    "test_accuracies = {}\n",
    "\n",
    "for neighbor in neighbors:\n",
    "    \n",
    "    knn = KNeighborsClassifier(n_neighbors=neighbor)\n",
    "  \n",
    "    knn.fit(X_train, y_train)\n",
    "     \n",
    "    train_accuracies[neighbor] = knn.score(X_train, y_train)\n",
    "    test_accuracies[neighbor] = knn.score(X_test, y_test)"
   ]
  },
  {
   "cell_type": "code",
   "execution_count": 31,
   "id": "49df383a-6ede-4ebe-be5f-9cc09da64861",
   "metadata": {},
   "outputs": [
    {
     "data": {
      "image/png": "[encoded data removed]",
      "text/plain": [
       "<Figure size 432x288 with 1 Axes>"
      ]
     },
     "metadata": {
      "needs_background": "light"
     },
     "output_type": "display_data"
    }
   ],
   "source": [
    "plt.title(\"KNN: Varying Number of Neighbors\")\n",
    "\n",
    "plt.plot(neighbors, train_accuracies.values(), label=\"Training Accuracy\")\n",
    "\n",
    "plt.plot(neighbors, test_accuracies.values(), label=\"Testing Accuracy\")\n",
    "\n",
    "plt.legend()\n",
    "plt.xlabel(\"Number of Neighbors\")\n",
    "plt.ylabel(\"Accuracy\")\n",
    "\n",
    "plt.show()"
   ]
  },
  {
   "cell_type": "markdown",
   "id": "eeb91fb3-8f34-4d57-9e46-f1555a31309b",
   "metadata": {},
   "source": [
    "**Interpretation**: The accuracy score for the training and testing set is computed for a range of values of k and the optimum value is selected. "
   ]
  },
  {
   "cell_type": "code",
   "execution_count": 32,
   "id": "d1f394aa-9d43-49d6-87a1-fd14268ad058",
   "metadata": {},
   "outputs": [
    {
     "name": "stdout",
     "output_type": "stream",
     "text": [
      "0.7719594594594594\n"
     ]
    }
   ],
   "source": [
    "knn = KNeighborsClassifier(n_neighbors=3)\n",
    "\n",
    "knn.fit(X_train, y_train)\n",
    "\n",
    "print(knn.score(X_test, y_test))"
   ]
  },
  {
   "cell_type": "code",
   "execution_count": 33,
   "id": "d93aef39-1a0d-4b19-9463-a972b3ea5e8e",
   "metadata": {},
   "outputs": [
    {
     "name": "stderr",
     "output_type": "stream",
     "text": [
      "C:\\Users\\Barnali Das\\anaconda3\\lib\\site-packages\\sklearn\\utils\\deprecation.py:87: FutureWarning: Function plot_confusion_matrix is deprecated; Function `plot_confusion_matrix` is deprecated in 1.0 and will be removed in 1.2. Use one of the class methods: ConfusionMatrixDisplay.from_predictions or ConfusionMatrixDisplay.from_estimator.\n",
      "  warnings.warn(msg, category=FutureWarning)\n"
     ]
    },
    {
     "data": {
      "image/png": "[encoded data removed]",
      "text/plain": [
       "<Figure size 432x288 with 2 Axes>"
      ]
     },
     "metadata": {
      "needs_background": "light"
     },
     "output_type": "display_data"
    }
   ],
   "source": [
    "plot_confusion_matrix(knn, X_test, y_test)\n",
    "plt.show()"
   ]
  },
  {
   "cell_type": "markdown",
   "id": "267aff2a-1704-4560-83bf-4f7be492a2ab",
   "metadata": {},
   "source": [
    "**Analysis**: In case of KNN, the model was able to predict positive 72.9% of time and negative was predicted 81.5% of time."
   ]
  },
  {
   "cell_type": "markdown",
   "id": "efa3d761-97e7-4c09-8dad-d91e033fd767",
   "metadata": {},
   "source": [
    "## Model Selection"
   ]
  },
  {
   "cell_type": "markdown",
   "id": "c1840abf-9445-49dd-aac1-82d4c28f5148",
   "metadata": {},
   "source": [
    "A graphical representation is created to summarize the performance of the three classification models - logistic regression, decision tree and k-nearest neighbour classifier. The visulization shows the accuracy rate of each classifier using a boxplot in which the distribution of the cross-validation scores. This graph provides insights to understand both bias and variance of the model. "
   ]
  },
  {
   "cell_type": "code",
   "execution_count": 34,
   "id": "f9dcff16-0566-41b2-b6df-6984be4a7242",
   "metadata": {},
   "outputs": [
    {
     "data": {
      "image/png": "[encoded data removed]",
      "text/plain": [
       "<Figure size 432x288 with 1 Axes>"
      ]
     },
     "metadata": {
      "needs_background": "light"
     },
     "output_type": "display_data"
    }
   ],
   "source": [
    "from sklearn.model_selection import cross_val_score, KFold\n",
    "import warnings \n",
    "\n",
    "warnings.filterwarnings('ignore')\n",
    "\n",
    "models = {\"Logistic Regression\": LogisticRegression(),\n",
    "          \"Decision Tree\": DecisionTreeClassifier(criterion='gini',splitter='best',min_samples_split=5,max_features='sqrt',random_state=21),\n",
    "          \"KNN\": KNeighborsClassifier(n_neighbors=4)}\n",
    "\n",
    "results = []\n",
    "\n",
    "for model in models.values():\n",
    "    kf = KFold(n_splits=6, random_state=21, shuffle=True)\n",
    "    cv_results = cross_val_score(model, X_train, y_train, cv=kf)\n",
    "    results.append(cv_results)\n",
    "    \n",
    "plt.boxplot(results, labels = models.keys())\n",
    "plt.show()"
   ]
  },
  {
   "cell_type": "markdown",
   "id": "c393ef69-3fc1-4ffc-ab27-fb162f5456b8",
   "metadata": {},
   "source": [
    "**Analysis**: It can be observed that the decision tree classifer has the best performance in terms of accuracy. The median accuracy for the decision tree classifier is 83% approximately. The variance in accuracy scores is also low for the decision tree classifier. The logistic regression model has a median accuracy of 79% and knn classifier has a median accuracy of 75%. \n",
    "Both logistic regression and knn classifier have a high variability in their accuracy scores. Hence, we can reccomend the decision tree model for assesing the competitivenes of eBay auctions. "
   ]
  },
  {
   "cell_type": "markdown",
   "id": "a2b2cae9-12aa-4da7-804c-6ebff6cd09b3",
   "metadata": {},
   "source": [
    "## Conclusions and Recomendations\n",
    "\n",
    "The study shows that the **four** most important factors which determine the competitiveness of the auction, in the order of their importance are:\n",
    "\n",
    " - Opening Price \n",
    " - Closing Price \n",
    " - Category\n",
    " - Seller rating\n",
    "\n",
    "These are the attributes which influence the competitiveness of the auction most and can be conisdered as important factors in model development. After developing three predictive models for binary classification (competitve/not competitive) and evaluating their performance, it is observed that the decision tree classifier is the best performing model. \n",
    "\n",
    "**Recommendations**: \n",
    "- For ensuring that the auctions are fair and competitive, the company should create a standard opening price for items of similar category as it is a very infuential factor. \n",
    "\n",
    "- Category is an important factor, even more influential than seller rating, based on difference in opening price and closing price which shows that auctions are more competitive. Thus, it is more profitable for the company when sellers auction items from specific categories such as photography. The company should promote and focus on itens from certain categories. "
   ]
  }
 ],
 "metadata": {
  "kernelspec": {
   "display_name": "Python 3 (ipykernel)",
   "language": "python",
   "name": "python3"
  },
  "language_info": {
   "codemirror_mode": {
    "name": "ipython",
    "version": 3
   },
   "file_extension": ".py",
   "mimetype": "text/x-python",
   "name": "python",
   "nbconvert_exporter": "python",
   "pygments_lexer": "ipython3",
   "version": "3.8.8"
  }
 },
 "nbformat": 4,
 "nbformat_minor": 5
}
